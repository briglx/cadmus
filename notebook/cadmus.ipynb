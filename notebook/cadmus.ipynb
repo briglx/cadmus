{
 "cells": [
  {
   "cell_type": "markdown",
   "metadata": {},
   "source": [
    "# References\n",
    "http://pillow.readthedocs.org/en/3.0.0/handbook/writing-your-own-file-decoder.html#example"
   ]
  },
  {
   "cell_type": "code",
   "execution_count": 1,
   "metadata": {
    "collapsed": true
   },
   "outputs": [],
   "source": [
    "from PIL import Image\n",
    "from subprocess import call\n",
    "import string\n"
   ]
  },
  {
   "cell_type": "code",
   "execution_count": 9,
   "metadata": {
    "collapsed": false
   },
   "outputs": [],
   "source": [
    "filename = \"WIN_20160403_15_16_53_Pro\"\n",
    "libPath = \"..\\\\lib\\\\\"\n",
    "dataPath = \"..\\\\data\\\\\"\n",
    "rawDataPath = dataPath + \"raw_images\\\\\"\n",
    "cropDataPath = dataPath + \"crop_images\\\\\"\n",
    "textDataPath = dataPath + \"ocr_output\\\\\"\n",
    "filePath = rawDataPath  + filename + \".jpg\"\n"
   ]
  },
  {
   "cell_type": "code",
   "execution_count": 4,
   "metadata": {
    "collapsed": false
   },
   "outputs": [],
   "source": [
    "im = Image.open(filePath)\n",
    "\n",
    "rightBox = (1665, 224, 2679, 1665)\n",
    "leftBox = (611, 234, 1570, 1658)\n",
    "for deg in range(10):\n",
    "    regionRight = im.crop(rightBox)\n",
    "    regionRight = regionRight.rotate(deg)\n",
    "    regionRight.save(cropDataPath + filename + \"-r\" + str(deg) + \".jpg\")\n",
    "    \n",
    "    regionLight = im.crop(leftBox)\n",
    "    regionLight = regionLight.rotate(deg*-1)\n",
    "    regionLight.save(cropDataPath + filename + \"-l\" + str(abs(deg *-1)) + \".jpg\")"
   ]
  },
  {
   "cell_type": "code",
   "execution_count": 16,
   "metadata": {
    "collapsed": false
   },
   "outputs": [],
   "source": [
    "# Run OCR on images\n",
    "for deg in range(10):\n",
    "    \n",
    "    imageRName =  filename + \"-r\" + str(deg) + \".jpg\"\n",
    "    imageLName =  filename + \"-l\" + str(abs(deg*-1)) + \".jpg\"\n",
    "    \n",
    "#     print libPath + \"tesseract.exe \" + cropDataPath + imageRName + \"  \" + textDataPath + imageRName + \".out -l eng\"\n",
    "    \n",
    "    call(libPath + \"tesseract.exe \" + cropDataPath + imageRName + \"  \" + textDataPath + imageRName + \".out -l eng\")\n",
    "    call(libPath + \"tesseract.exe \" + cropDataPath + imageLName + \"  \" + textDataPath + imageLName + \".out -l eng\")\n"
   ]
  },
  {
   "cell_type": "code",
   "execution_count": 19,
   "metadata": {
    "collapsed": false
   },
   "outputs": [],
   "source": [
    "def scoreOCRResults(filename):\n",
    "    chars = words = lines = 0\n",
    "    totalChars = []\n",
    "    charCount = {}\n",
    "  \n",
    "    with open(filename, 'r') as in_file:\n",
    "        for line in in_file:\n",
    "            lines += 1\n",
    "            words += len(line.split())\n",
    "            chars += len(line)\n",
    "            \n",
    "            totalChars.extend(list(line))\n",
    "\n",
    "    Uniq = set(totalChars)\n",
    "    for key in Uniq:\n",
    "        charCount[key] = totalChars.count(key)\n",
    "\n",
    "    letterCount = 0\n",
    "    for key in string.letters:\n",
    "        letterCount = letterCount + totalChars.count(key)\n",
    "            \n",
    "    return lines, words, chars, letterCount, letterCount / float(chars)"
   ]
  },
  {
   "cell_type": "code",
   "execution_count": 24,
   "metadata": {
    "collapsed": false
   },
   "outputs": [
    {
     "data": {
      "text/plain": [
       "(39, 344, 1730, 1274, 0.7364161849710983)"
      ]
     },
     "execution_count": 24,
     "metadata": {},
     "output_type": "execute_result"
    }
   ],
   "source": [
    "scoreOCRResults( textDataPath + filename + \"-l0.jpg.out.txt\")"
   ]
  },
  {
   "cell_type": "code",
   "execution_count": 26,
   "metadata": {
    "collapsed": false
   },
   "outputs": [
    {
     "name": "stdout",
     "output_type": "stream",
     "text": [
      "(39, 344, 1730, 1274, 0.7364161849710983)\n",
      "(43, 342, 1734, 1276, 0.7358708189158016)\n",
      "(42, 348, 1759, 1273, 0.7237066515065378)\n",
      "(43, 343, 1753, 1270, 0.7244723331431832)\n",
      "(62, 349, 1756, 1232, 0.7015945330296127)\n",
      "(76, 335, 1691, 1215, 0.7185097575399172)\n",
      "(90, 314, 1582, 1089, 0.6883691529709229)\n",
      "(61, 190, 933, 626, 0.6709539121114684)\n",
      "(86, 175, 883, 573, 0.6489241223103058)\n",
      "(22, 53, 294, 192, 0.6530612244897959)\n"
     ]
    }
   ],
   "source": [
    "print scoreOCRResults(textDataPath + filename + \"-l0.jpg.out.txt\")\n",
    "print scoreOCRResults(textDataPath + filename + \"-l1.jpg.out.txt\")\n",
    "print scoreOCRResults(textDataPath + filename + \"-l2.jpg.out.txt\")\n",
    "print scoreOCRResults(textDataPath + filename + \"-l3.jpg.out.txt\")\n",
    "print scoreOCRResults(textDataPath + filename + \"-l4.jpg.out.txt\")\n",
    "print scoreOCRResults(textDataPath + filename + \"-l5.jpg.out.txt\")\n",
    "print scoreOCRResults(textDataPath + filename + \"-l6.jpg.out.txt\")\n",
    "print scoreOCRResults(textDataPath + filename + \"-l7.jpg.out.txt\")\n",
    "print scoreOCRResults(textDataPath + filename + \"-l8.jpg.out.txt\")\n",
    "print scoreOCRResults(textDataPath + filename + \"-l9.jpg.out.txt\")\n"
   ]
  },
  {
   "cell_type": "code",
   "execution_count": 1,
   "metadata": {
    "collapsed": true
   },
   "outputs": [],
   "source": [
    "\n",
    "\n",
    "# from matplotlib import pyplot\n",
    "# from numpy import arange"
   ]
  },
  {
   "cell_type": "code",
   "execution_count": 2,
   "metadata": {
    "collapsed": true
   },
   "outputs": [],
   "source": [
    "# def scatterplot(x,y):\n",
    "#     pyplot.plot(x,y,'b.')\n",
    "#     pyplot.xlim(min(x)-1,max(x)+1)\n",
    "#     pyplot.ylim(min(y)-1,max(y)+1)\n",
    "#     pyplot.show()\n"
   ]
  },
  {
   "cell_type": "code",
   "execution_count": null,
   "metadata": {
    "collapsed": false
   },
   "outputs": [],
   "source": [
    "# scatterplot([0.735870819,0.723706652,0.724472333,0.701594533,0.718509758,0.688369153,0.670953912,0.648924122,0.653061224], [13,27,21,41,41,50,60,70,100])"
   ]
  }
 ],
 "metadata": {
  "kernelspec": {
   "display_name": "Python 2",
   "language": "python",
   "name": "python2"
  },
  "language_info": {
   "codemirror_mode": {
    "name": "ipython",
    "version": 2
   },
   "file_extension": ".py",
   "mimetype": "text/x-python",
   "name": "python",
   "nbconvert_exporter": "python",
   "pygments_lexer": "ipython2",
   "version": "2.7.11"
  }
 },
 "nbformat": 4,
 "nbformat_minor": 0
}
