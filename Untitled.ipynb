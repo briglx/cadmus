{
 "cells": [
  {
   "cell_type": "code",
   "execution_count": 3,
   "metadata": {
    "collapsed": true
   },
   "outputs": [],
   "source": []
  },
  {
   "cell_type": "markdown",
   "metadata": {},
   "source": [
    "# References\n",
    "http://pillow.readthedocs.org/en/3.0.0/handbook/writing-your-own-file-decoder.html#example"
   ]
  },
  {
   "cell_type": "code",
   "execution_count": 75,
   "metadata": {
    "collapsed": true
   },
   "outputs": [],
   "source": [
    "from PIL import Image\n",
    "from subprocess import call\n",
    "import string\n"
   ]
  },
  {
   "cell_type": "code",
   "execution_count": 17,
   "metadata": {
    "collapsed": false
   },
   "outputs": [],
   "source": [
    "filename = \"rawimages\\WIN_20160403_15_16_53_Pro.jpg\"\n",
    "im = Image.open(filename)"
   ]
  },
  {
   "cell_type": "code",
   "execution_count": 21,
   "metadata": {
    "collapsed": false
   },
   "outputs": [],
   "source": [
    "rightBox = (1665, 224, 2679, 1665)\n",
    "leftBox = (611, 234, 1570, 1658)\n",
    "for deg in range(10):\n",
    "    regionRight = im.crop(rightBox)\n",
    "    regionRight = regionRight.rotate(deg)\n",
    "    regionRight.save(\"r\" + str(deg) + \".jpg\")\n",
    "    \n",
    "    regionLight = im.crop(leftBox)\n",
    "    regionLight = regionLight.rotate(deg*-1)\n",
    "    regionLight.save(\"l\" + str(deg *-1) + \".jpg\")\n",
    "    "
   ]
  },
  {
   "cell_type": "code",
   "execution_count": 39,
   "metadata": {
    "collapsed": false
   },
   "outputs": [],
   "source": [
    "# Run OCR on images\n",
    "for deg in range(10):\n",
    "    imageRName = \"r\" + str(deg) + \".jpg\"\n",
    "    imageLName = \"l\" + str(deg*-1) + \".jpg\"\n",
    "    \n",
    "    call(\"tesseract.exe \" + imageRName + \"  \" + imageRName + \".out -l eng\")\n",
    "    call(\"tesseract.exe \" + imageLName + \"  \" + imageLName + \".out -l eng\")\n"
   ]
  },
  {
   "cell_type": "code",
   "execution_count": 37,
   "metadata": {
    "collapsed": false
   },
   "outputs": [
    {
     "data": {
      "text/plain": [
       "0"
      ]
     },
     "execution_count": 37,
     "metadata": {},
     "output_type": "execute_result"
    }
   ],
   "source": [
    "# Evaluate output. Which one provided the 'best' results\n",
    "\n",
    "str = \"count a character occurance\"\n",
    "\n",
    "List = list(str)\n",
    "print (List)\n",
    "Uniq = set(List)\n",
    "print (Uniq)\n",
    "\n",
    "for key in Uniq:\n",
    "    print (key, str.count(key))"
   ]
  },
  {
   "cell_type": "code",
   "execution_count": 89,
   "metadata": {
    "collapsed": false
   },
   "outputs": [
    {
     "data": {
      "text/plain": [
       "(43, 342, 1734, 1276, 0.7358708189158016)"
      ]
     },
     "execution_count": 89,
     "metadata": {},
     "output_type": "execute_result"
    }
   ],
   "source": [
    "scoreOCRResults(\"l-1.jpg.out.txt\")"
   ]
  },
  {
   "cell_type": "code",
   "execution_count": 95,
   "metadata": {
    "collapsed": false
   },
   "outputs": [
    {
     "name": "stdout",
     "output_type": "stream",
     "text": [
      "(43, 342, 1734, 1276, 0.7358708189158016)\n",
      "(42, 348, 1759, 1273, 0.7237066515065378)\n",
      "(43, 343, 1753, 1270, 0.7244723331431832)\n",
      "(62, 349, 1756, 1232, 0.7015945330296127)\n",
      "(76, 335, 1691, 1215, 0.7185097575399172)\n",
      "(90, 314, 1582, 1089, 0.6883691529709229)\n",
      "(61, 190, 933, 626, 0.6709539121114684)\n",
      "(86, 175, 883, 573, 0.6489241223103058)\n",
      "(22, 53, 294, 192, 0.6530612244897959)\n"
     ]
    }
   ],
   "source": [
    "\n",
    "print scoreOCRResults(\"l-1.jpg.out.txt\")\n",
    "print scoreOCRResults(\"l-2.jpg.out.txt\")\n",
    "print scoreOCRResults(\"l-3.jpg.out.txt\")\n",
    "print scoreOCRResults(\"l-4.jpg.out.txt\")\n",
    "print scoreOCRResults(\"l-5.jpg.out.txt\")\n",
    "print scoreOCRResults(\"l-6.jpg.out.txt\")\n",
    "print scoreOCRResults(\"l-7.jpg.out.txt\")\n",
    "print scoreOCRResults(\"l-8.jpg.out.txt\")\n",
    "print scoreOCRResults(\"l-9.jpg.out.txt\")\n"
   ]
  },
  {
   "cell_type": "code",
   "execution_count": 94,
   "metadata": {
    "collapsed": false
   },
   "outputs": [],
   "source": [
    "def scoreOCRResults(filename):\n",
    "    chars = words = lines = 0\n",
    "    totalChars = []\n",
    "    charCount = {}\n",
    "  \n",
    "    with open(filename, 'r') as in_file:\n",
    "        for line in in_file:\n",
    "            lines += 1\n",
    "            words += len(line.split())\n",
    "            chars += len(line)\n",
    "            \n",
    "            totalChars.extend(list(line))\n",
    "\n",
    "    Uniq = set(totalChars)\n",
    "    for key in Uniq:\n",
    "        charCount[key] = totalChars.count(key)\n",
    "\n",
    "    letterCount = 0\n",
    "    for key in string.letters:\n",
    "        letterCount = letterCount + totalChars.count(key)\n",
    "            \n",
    "    return lines, words, chars, letterCount, letterCount / float(chars)"
   ]
  }
 ],
 "metadata": {
  "kernelspec": {
   "display_name": "Python 2",
   "language": "python",
   "name": "python2"
  },
  "language_info": {
   "codemirror_mode": {
    "name": "ipython",
    "version": 2
   },
   "file_extension": ".py",
   "mimetype": "text/x-python",
   "name": "python",
   "nbconvert_exporter": "python",
   "pygments_lexer": "ipython2",
   "version": "2.7.11"
  }
 },
 "nbformat": 4,
 "nbformat_minor": 0
}
